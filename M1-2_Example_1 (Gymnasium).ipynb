{
 "cells": [
  {
   "cell_type": "markdown",
   "id": "1df461f1-55d3-4b3d-a785-efd3133ec799",
   "metadata": {},
   "source": [
    "# M4 - Reinforcement Learning\n",
    "\n",
    "## Example of the information from CartPole environment\n",
    "\n",
    "Below we will see a simple example that will allow us to understand the concepts introduced in this section.   "
   ]
  },
  {
   "cell_type": "markdown",
   "id": "413a608e-2672-4ea4-9dbc-eb2b0b97cba3",
   "metadata": {},
   "source": [
    "First, we import the library and load the environment (lines 1 and 2)."
   ]
  },
  {
   "cell_type": "code",
   "execution_count": 1,
   "id": "b4fc5623-bc65-4f88-8dbe-7f2d33d08ab4",
   "metadata": {
    "tags": []
   },
   "outputs": [],
   "source": [
    "import gymnasium as gym"
   ]
  },
  {
   "cell_type": "markdown",
   "id": "6b51ea73-f5e5-43b3-b9a9-2871de984849",
   "metadata": {},
   "source": [
    "The following code allows us to create an environment based on CartPole-v0 and see the type and range of data used."
   ]
  },
  {
   "cell_type": "code",
   "execution_count": 2,
   "id": "d2a6625c-05ea-49c9-9d21-cb2626acae5e",
   "metadata": {
    "tags": []
   },
   "outputs": [],
   "source": [
    "e = gym.make('CartPole-v1')"
   ]
  },
  {
   "cell_type": "markdown",
   "id": "40323340-42f6-4093-8333-589f753f1cd2",
   "metadata": {},
   "source": [
    "To initialize the environment we execute the `reset()` method. In addition to starting the environment, it returns an observation in the form of an __array__ of four decimal values, which contains information about:\n",
    "- the $x$ coordinate of the center of mass of the stick,\n",
    "- its speed, \n",
    "- its angle with the platform, and \n",
    "- its angular velocity."
   ]
  },
  {
   "cell_type": "code",
   "execution_count": 3,
   "id": "f25d58ce-540e-4579-95cb-302e6bc6563a",
   "metadata": {
    "tags": []
   },
   "outputs": [
    {
     "data": {
      "text/plain": [
       "(array([ 0.00600007,  0.04271926, -0.01585362, -0.01345813], dtype=float32),\n",
       " {})"
      ]
     },
     "execution_count": 3,
     "metadata": {},
     "output_type": "execute_result"
    }
   ],
   "source": [
    "e.reset()"
   ]
  },
  {
   "cell_type": "markdown",
   "id": "d41df080-e577-4ef6-a6db-79ea796c1480",
   "metadata": {},
   "source": [
    "We can see that the **type** of the allowed actions is `Discrete(n=2)`, which indicates that the actions must contain the value 0 or 1, where:\n",
    "- 0 means pushing the platform to the left, and \n",
    "- 1 means push to the right. "
   ]
  },
  {
   "cell_type": "code",
   "execution_count": 4,
   "id": "fd4cf890-d219-4279-b109-c86519eca322",
   "metadata": {
    "tags": []
   },
   "outputs": [
    {
     "data": {
      "text/plain": [
       "Discrete(2)"
      ]
     },
     "execution_count": 4,
     "metadata": {},
     "output_type": "execute_result"
    }
   ],
   "source": [
    "e.action_space"
   ]
  },
  {
   "cell_type": "markdown",
   "id": "82e317a2-64dc-409c-9143-ba28e7a30432",
   "metadata": {},
   "source": [
    "The `action_space.sample()` method returns us random examples of the valid action space in this environment."
   ]
  },
  {
   "cell_type": "code",
   "execution_count": 5,
   "id": "abce79fa-f1d0-41c5-ab6d-723ea2f20352",
   "metadata": {
    "tags": []
   },
   "outputs": [
    {
     "data": {
      "text/plain": [
       "np.int64(1)"
      ]
     },
     "execution_count": 5,
     "metadata": {},
     "output_type": "execute_result"
    }
   ],
   "source": [
    "e.action_space.sample()"
   ]
  },
  {
   "cell_type": "markdown",
   "id": "3ed2ea7f-90f3-4ee6-867d-2aad7e69206b",
   "metadata": {},
   "source": [
    "The space of observations is a vector of four positions in the range ($-\\infty, \\infty$)."
   ]
  },
  {
   "cell_type": "code",
   "execution_count": 6,
   "id": "8a4e502b-b2be-494c-9faf-2f87609d57ab",
   "metadata": {
    "tags": []
   },
   "outputs": [
    {
     "data": {
      "text/plain": [
       "Box([-4.8               -inf -0.41887903        -inf], [4.8               inf 0.41887903        inf], (4,), float32)"
      ]
     },
     "execution_count": 6,
     "metadata": {},
     "output_type": "execute_result"
    }
   ],
   "source": [
    "e.observation_space"
   ]
  },
  {
   "cell_type": "markdown",
   "id": "b9f168fe-9a67-4b8d-b5dd-50a422fbe4b0",
   "metadata": {},
   "source": [
    "Below we see a random example provided by the `observation_space.sample()` method."
   ]
  },
  {
   "cell_type": "code",
   "execution_count": 7,
   "id": "1dd17261-6b5f-408e-b9a9-77fe447a37c5",
   "metadata": {
    "tags": []
   },
   "outputs": [
    {
     "data": {
      "text/plain": [
       "array([ 2.1233292 ,  0.22612087,  0.02973259, -0.08213806], dtype=float32)"
      ]
     },
     "execution_count": 7,
     "metadata": {},
     "output_type": "execute_result"
    }
   ],
   "source": [
    "e.observation_space.sample()"
   ]
  },
  {
   "cell_type": "markdown",
   "id": "1df44ff0-3d5d-4f67-bbe4-ff59b7b8c6ba",
   "metadata": {},
   "source": [
    "Finally, we indicate the action that the agent will perform. \n",
    "\n",
    "The response of the environment includes five values:\n",
    "- A four-position vector with the result of the **new observation** of the environment.\n",
    "- The **reward**, which in this case is 1.0.\n",
    "- The **terminated** indicator, which in this case is _False_.\n",
    "- The **truncated** indicator, which in this case is _False_.\n",
    "- **Extra information** about the environment, which in this case does not contain information."
   ]
  },
  {
   "cell_type": "code",
   "execution_count": 8,
   "id": "451563ab-c814-40bd-b75a-202e2ae91396",
   "metadata": {
    "tags": []
   },
   "outputs": [
    {
     "data": {
      "text/plain": [
       "(array([ 0.00685445, -0.15217179, -0.01612279,  0.27418092], dtype=float32),\n",
       " 1.0,\n",
       " False,\n",
       " False,\n",
       " {})"
      ]
     },
     "execution_count": 8,
     "metadata": {},
     "output_type": "execute_result"
    }
   ],
   "source": [
    "e.step(0)"
   ]
  },
  {
   "cell_type": "code",
   "execution_count": null,
   "id": "cbc4af7d-2692-45f0-adb4-4b0cb51e25f9",
   "metadata": {},
   "outputs": [],
   "source": []
  }
 ],
 "metadata": {
  "kernelspec": {
   "display_name": "gymnasium_v1-2-0",
   "language": "python",
   "name": "python3"
  },
  "language_info": {
   "codemirror_mode": {
    "name": "ipython",
    "version": 3
   },
   "file_extension": ".py",
   "mimetype": "text/x-python",
   "name": "python",
   "nbconvert_exporter": "python",
   "pygments_lexer": "ipython3",
   "version": "3.10.18"
  }
 },
 "nbformat": 4,
 "nbformat_minor": 5
}

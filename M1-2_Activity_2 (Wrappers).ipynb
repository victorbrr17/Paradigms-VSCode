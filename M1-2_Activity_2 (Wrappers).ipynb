{
 "cells": [
  {
   "cell_type": "markdown",
   "metadata": {
    "id": "7xrRvDDNLUxK"
   },
   "source": [
    "# Wrappers\n",
    "\n",
    "## Non-Evaluables Practical Exercices\n",
    "\n",
    "This is a non-evaluable practical exercise, but it is recommended that students complete it fully and individually, since it is an important part of the learning process.\n",
    "\n",
    "The solution will be available, although it is not recommended that students consult the solution until they have completed the exercise."
   ]
  },
  {
   "cell_type": "markdown",
   "metadata": {
    "id": "gee4aY31LUxL"
   },
   "source": [
    "## Defining the base environment\n",
    "\n",
    "In this activity, we are going to extend or modify the functionality of [Frozen Lake](https://gymnasium.farama.org/environments/toy_text/frozen_lake/) environment by using the [wrappers](https://gymnasium.farama.org/api/wrappers/) functionality.\n",
    "\n",
    "The following code runs one episode and prints the observation at each time $t$. As can be seen, the observation is an **integer** in range $[0,n^2-1]$ where $n$ is the grid size.\n",
    "\n",
    "Suppose we want to implement an agent that needs to process the observations as a **vector of binary positions**, where a single position of the vector must take the value of 1 and the rest must remain at 0. To achieve this behavior, we define a **wrapper** that takes the observation space environment `Discrete(n=16)` and generates a new environment with an encoding [one-hot](https://es.wikipedia.org/wiki/One-hot) of the states, to be used, for example, in neural networks.\n",
    "\n",
    "<u>Questions</u>:\n",
    "1. **Modify the environment** to fulfil the above description."
   ]
  },
  {
   "cell_type": "code",
   "execution_count": 1,
   "metadata": {
    "tags": []
   },
   "outputs": [
    {
     "name": "stdout",
     "output_type": "stream",
     "text": [
      "1\n",
      "2\n",
      "1\n",
      "0\n",
      "0\n",
      "0\n",
      "1\n",
      "5\n",
      "Episode finished!\n"
     ]
    }
   ],
   "source": [
    "import gymnasium as gym\n",
    "\n",
    "env = gym.make(\"FrozenLake-v1\")\n",
    "obs, done = env.reset(), False\n",
    "\n",
    "while not done:\n",
    "    act = env.action_space.sample()\n",
    "    obs, rew, terminated, truncated, _ = env.step(act)\n",
    "    done = terminated or truncated\n",
    "    \n",
    "    print(obs)\n",
    "\n",
    "print(\"Episode finished!\")"
   ]
  },
  {
   "cell_type": "code",
   "execution_count": 2,
   "metadata": {
    "tags": []
   },
   "outputs": [
    {
     "name": "stdout",
     "output_type": "stream",
     "text": [
      "Discrete(16)\n",
      "4\n"
     ]
    }
   ],
   "source": [
    "print(env.observation_space)\n",
    "print(env.observation_space.sample())"
   ]
  },
  {
   "cell_type": "markdown",
   "metadata": {
    "id": "2JCyYmwRLUxM"
   },
   "source": [
    "<div class=\"alert alert-block alert-danger\">\n",
    "<strong>Solution</strong>\n",
    "</div>"
   ]
  },
  {
   "cell_type": "code",
   "execution_count": null,
   "metadata": {},
   "outputs": [],
   "source": []
  }
 ],
 "metadata": {
  "colab": {
   "provenance": []
  },
  "kernelspec": {
   "display_name": "Python 3 (ipykernel)",
   "language": "python",
   "name": "python3"
  },
  "language_info": {
   "codemirror_mode": {
    "name": "ipython",
    "version": 3
   },
   "file_extension": ".py",
   "mimetype": "text/x-python",
   "name": "python",
   "nbconvert_exporter": "python",
   "pygments_lexer": "ipython3",
   "version": "3.10.18"
  }
 },
 "nbformat": 4,
 "nbformat_minor": 4
}

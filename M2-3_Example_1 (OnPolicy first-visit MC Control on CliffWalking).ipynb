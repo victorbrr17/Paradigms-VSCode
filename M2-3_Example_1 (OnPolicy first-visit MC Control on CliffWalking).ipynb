{
 "cells": [
  {
   "cell_type": "markdown",
   "metadata": {},
   "source": [
    "# **Tabular Reinforcement Learning**\n",
    "\n",
    "# M2-3 Monte Carlo methods\n",
    "\n",
    "## Example of the \"On-Policy first-visit MC Control with $\\epsilon$-greedy policy\" algorithm\n",
    "\n",
    "Below we will see a simple example that will allow us to understand the concepts introduced in this section.  "
   ]
  },
  {
   "cell_type": "markdown",
   "metadata": {},
   "source": [
    "First we will install the [Gymnasium](https://gymnasium.farama.org/) library (if we do not have it installed):\n",
    "\n",
    "> !pip install gymnasium"
   ]
  },
  {
   "cell_type": "markdown",
   "metadata": {},
   "source": [
    "For backward compatibility with code created for OpenAI Gym."
   ]
  },
  {
   "cell_type": "markdown",
   "metadata": {},
   "source": [
    "## The CliffWalking environment\n",
    "\n",
    "The CliffWalking environment consists of an agent that moves on a grid of dimensions 12x4 (width x height). \n",
    "- In each step, the agent has 4 options for action or movement: UP, DOWN, RIGHT, LEFT. \n",
    "- The agent always starts from the same square [0, 3] (lower left corner) and the game ends when the agent reaches the arrival square [11, 3] (lower right corner). \n",
    "- The position of each box is given by a pair of natural numbers [x, y], where the position of the top left corner would be the origin of coordinates [0, 0].\n",
    "- Immediate reward is R=-1 for all the boxes, except in the boxes that connect the departure box to the arrival box in a straight line (boxes [1, 3] to [10, 3]). In these boxes, which simulate a **cliff**, the reward is R=-100 and you return to the initial box."
   ]
  },
  {
   "cell_type": "markdown",
   "metadata": {},
   "source": [
    "<img align=\"center\" width=\"1000\" src=\"data:image/png;base64,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\"/>"
   ]
  },
  {
   "cell_type": "markdown",
   "metadata": {},
   "source": [
    "The code to implement this environment, which is available in the attached file `cliff_env.py`, has been adapted from the following link: \n",
    "- https://pypi.org/project/gym-gridworlds/"
   ]
  },
  {
   "cell_type": "markdown",
   "metadata": {},
   "source": [
    "### 1. Data load\n",
    "\n",
    "The following code loads the packages necessary to run the example, creates the environment by instantiating an object of the `CliffEnv` class, and prints the dimension of the action space:\n",
    "- 0 = up, \n",
    "- 1 = right, \n",
    "- 2 = down,\n",
    "- and 3 = left\n",
    "\n",
    "The space of observations is a **tuple** indicating the **position of the agent** in the grid, and the **range of the reward** variable (whose value is -1 or -100 depending on the cell visited and which therefore goes from less infinity to more infinity)."
   ]
  },
  {
   "cell_type": "code",
   "execution_count": 1,
   "metadata": {
    "colab": {
     "base_uri": "https://localhost:8080/",
     "height": 395
    },
    "id": "h5y5sIqBPPxr",
    "outputId": "853c4fb1-0806-4393-f51c-a9098d9eddc5",
    "tags": []
   },
   "outputs": [],
   "source": [
    "import gymnasium as gym\n",
    "from gymnasium import spaces\n",
    "import numpy as np\n",
    "\n",
    "switch_action = {\n",
    "        0: \"U\",\n",
    "        1: \"R\",\n",
    "        2: \"D\",\n",
    "        3: \"L\",\n",
    "    }\n",
    "\n",
    "class CliffEnv(gym.Env):\n",
    "    def __init__(self, width=12, height=4):\n",
    "        self.width = width\n",
    "        self.height = height\n",
    "        self.action_space = spaces.Discrete(4)\n",
    "        self.observation_space = spaces.Tuple((\n",
    "                spaces.Discrete(self.width),\n",
    "                spaces.Discrete(self.height)\n",
    "                ))\n",
    "        self.moves = {\n",
    "                0: (0, -1),   # up\n",
    "                1: (1, 0),   # right\n",
    "                2: (0, 1),  # down\n",
    "                3: (-1, 0),  # left\n",
    "                }\n",
    "        self.timesteps = 0\n",
    "        self.max_timesteps = 100\n",
    "        self.reward_range = (-100, 1000)\n",
    "        # begin in start state\n",
    "        self.reset()\n",
    "\n",
    "    def step(self, action):\n",
    "        self.timesteps += 1\n",
    "        x, y = self.moves[action]\n",
    "        self.S = self.S[0] + x, self.S[1] + y\n",
    "\n",
    "        self.S = max(0, self.S[0]), max(0, self.S[1])\n",
    "        self.S = (min(self.S[0], self.width-1), min(self.S[1], self.height-1))\n",
    "\n",
    "        # truncation\n",
    "        if self.timesteps >= self.max_timesteps:\n",
    "            # truncated\n",
    "            return self.S, -1, True, {}\n",
    "        \n",
    "        # other\n",
    "        if self.S == (self.width - 1, self.height - 1):\n",
    "            # get Goal state\n",
    "            return self.S, 1000, True, {}\n",
    "        elif self.S[0] != 0 and self.S[1] == self.height - 1:\n",
    "            # the cliff\n",
    "            self.init_S()\n",
    "            return self.S, -100, False, {}\n",
    "        else:\n",
    "            # anything else\n",
    "            return self.S, -1, False, {}\n",
    "        \n",
    "    def init_S(self):\n",
    "        self.S = (0, self.height-1)\n",
    "\n",
    "    def reset(self):\n",
    "        self.init_S()\n",
    "        self.timesteps = 0\n",
    "        return self.S"
   ]
  },
  {
   "cell_type": "code",
   "execution_count": 2,
   "metadata": {
    "tags": []
   },
   "outputs": [
    {
     "name": "stdout",
     "output_type": "stream",
     "text": [
      "Action space is     : Discrete(4) \n",
      "Observation space is: Tuple(Discrete(12), Discrete(4)) \n",
      "Reward range is     : (-100, 1000) \n"
     ]
    }
   ],
   "source": [
    "env = CliffEnv()\n",
    "\n",
    "print(\"Action space is     : {} \".format(env.action_space))\n",
    "print(\"Observation space is: {} \".format(env.observation_space))\n",
    "print(\"Reward range is     : {} \".format(env.unwrapped.reward_range))"
   ]
  },
  {
   "cell_type": "markdown",
   "metadata": {},
   "source": [
    "### 2. Running a random episode\n",
    "\n",
    "Next, we will execute an episode of the _CliffWalking environment_ using an agent that selects actions randomly."
   ]
  },
  {
   "cell_type": "code",
   "execution_count": 3,
   "metadata": {
    "id": "ksk8N63OHpEO",
    "tags": []
   },
   "outputs": [
    {
     "name": "stdout",
     "output_type": "stream",
     "text": [
      "Obs inicial: (0, 3) \n",
      "Episode finished after 100 timesteps and reward was -1189 \n"
     ]
    }
   ],
   "source": [
    "# Environment reset\n",
    "obs = env.reset()\n",
    "t, total_reward, done = 0, 0, False\n",
    "\n",
    "print(\"Obs inicial: {} \".format(obs))\n",
    "\n",
    "while not done:\n",
    "    # Elegir una acción aleatoria (ésta es la implementación del agente)\n",
    "    action = env.action_space.sample()\n",
    "    \n",
    "    # Ejecutar la acción y esperar la respuesta del entorno\n",
    "    new_obs, reward, done, info = env.step(action)\n",
    "    \n",
    "    # Actualizar variables\n",
    "    obs = new_obs\n",
    "    total_reward += reward\n",
    "    t += 1\n",
    "    \n",
    "print(\"Episode finished after {} timesteps and reward was {} \".format(t, total_reward))\n",
    "env.close()"
   ]
  },
  {
   "cell_type": "markdown",
   "metadata": {},
   "source": [
    "### 3. Monte Carlo methods\n",
    "\n",
    "In this section we will see an estimation of the **optimal policy** using **Monte Carlo methods**, specifically we will study the **_On-policy first-visit MC control algorithm (for $\\epsilon$-soft policies)_**."
   ]
  },
  {
   "cell_type": "markdown",
   "metadata": {},
   "source": [
    "We will use the following parameters:\n",
    "- Number of episodes = 500,000\n",
    "- Epsilon = 0.8\n",
    "- Discount factor = 1\n",
    "\n",
    "Note that we use an $\\epsilon$-greedy policy **without** decay factor."
   ]
  },
  {
   "cell_type": "code",
   "execution_count": 4,
   "metadata": {
    "tags": []
   },
   "outputs": [],
   "source": [
    "## Adapted from:\n",
    "## https://github.com/dennybritz/reinforcement-learning/tree/master/MC\n",
    "import numpy as np\n",
    "from collections import defaultdict\n",
    "import sys\n",
    "import time\n",
    "\n",
    "\n",
    "def make_epsilon_greedy_policy(Q, epsilon, num_Actions):\n",
    "    \"\"\"\n",
    "    Creates an epsilon-greedy policy based on a Q and epsilon action value function\n",
    "    \n",
    "    Args:\n",
    "         Q: A dictionary whose correspondence is state -> action-values.\n",
    "            Each value is a numpy array of length num_Actions (see below)\n",
    "         epsilon: The probability of selecting a random action (float between 0 and 1).\n",
    "         num_Actions: Number of actions in the environment. (in the case of WIndyGridWorld it is 4)\n",
    "    \n",
    "    Returns:\n",
    "         A function that takes the observation as an argument and returns as a result\n",
    "         the probabilities of each action as a numpy array of length num_Actions.\n",
    "    \"\"\"\n",
    "    def policy_fn(observation):\n",
    "        A = np.ones(num_Actions, dtype=float) * epsilon / num_Actions\n",
    "        best_action = np.argmax(Q[observation])\n",
    "        A[best_action] += (1.0 - epsilon)\n",
    "\n",
    "        return A\n",
    "    \n",
    "    return policy_fn\n",
    "\n",
    "def mc_control_on_policy_epsilon_greedy(env, num_episodes, discount=1.0, epsilon=0.1):\n",
    "    \"\"\"\n",
    "    Control by Monte Carlo methods using Epsilon-Greedy policies\n",
    "    Find an epsilon-greedy policy.\n",
    "    \n",
    "    Args:\n",
    "         env: Gymnasium environment.\n",
    "         num_episodes: Number of episodes in the sample.\n",
    "         discount: discount factor.\n",
    "         epsilon: The probability of selecting a random action (float between 0 and 1)\n",
    "    \n",
    "    Returns:\n",
    "         A tuple (Q, policy).\n",
    "         Q: A dictionary whose correspondence is state -> action-values.\n",
    "         policy: A function that takes the observation as an argument and returns as a result\n",
    "                 the probabilities of each action\n",
    "    \"\"\"\n",
    "    \n",
    "    # We store the sum and number of returns for each state to calculate the average. \n",
    "    # We could use an array to store all the returns, but it is inefficient in terms of memory.\n",
    "    returns_sum = defaultdict(float)\n",
    "    returns_count = defaultdict(float)\n",
    "    \n",
    "    # The Q action value function.\n",
    "    # A nested dictionary whose correspondence is state -> (action -> action-value).\n",
    "    # Initially we initialize it to zero\n",
    "    Q = defaultdict(lambda: np.zeros(env.action_space.n))\n",
    "    \n",
    "    for i_episode in range(1, num_episodes + 1):\n",
    "        # The policy we are following\n",
    "        policy = make_epsilon_greedy_policy(Q, epsilon, env.action_space.n)\n",
    "        \n",
    "        # We print which episode we are in, useful for debugging.\n",
    "        if i_episode % 100 == 0:\n",
    "            print(\"\\rEpisode {}/{}\".format(i_episode, num_episodes), end=\"\")\n",
    "            sys.stdout.flush()\n",
    "\n",
    "        # We generate an episode and store it\n",
    "        # An episode is an array of tuples (state, action, reward)\n",
    "        episode = []\n",
    "        state = env.reset()\n",
    "        done = False\n",
    "        while not done:\n",
    "            probs = policy(state)\n",
    "            action = np.random.choice(np.arange(len(probs)), p=probs)\n",
    "            next_state, reward, done, _ = env.step(action)\n",
    "            episode.append((state, action, reward))\n",
    "            if done:\n",
    "                break\n",
    "            state = next_state\n",
    "\n",
    "        idx = 0\n",
    "        \n",
    "        # Find all the (state, action) pairs we have visited in this episode\n",
    "        # Convert each state into a tuple so we can use it as a dictionary key\n",
    "        sar_in_episode = set([(tuple(x[0]), x[1], x[2]) for x in episode])\n",
    "\n",
    "        # for each time step\n",
    "        for state, action, reward in sar_in_episode:\n",
    "            sa_pair = (state, action)\n",
    "\n",
    "            # We find the first appearance of the pair (state, action) in the episode\n",
    "            first_occurence_idx = next(i for i,x in enumerate(episode) if x[0] == state and x[1] == action)\n",
    "            \n",
    "            # We add up all the rewards since the first appearance\n",
    "            G = sum([x[2]*(discount**i) for i,x in enumerate(episode[first_occurence_idx:])])\n",
    "            \n",
    "            # We calculate the average return for this state over all sampled episodes\n",
    "            returns_sum[sa_pair] += G\n",
    "            returns_count[sa_pair] += 1.0\n",
    "            Q[state][action] = returns_sum[sa_pair] / returns_count[sa_pair]\n",
    "        \n",
    "        # The policy is implicitly improved by changing the values of Q\n",
    "    \n",
    "    return Q, policy"
   ]
  },
  {
   "cell_type": "code",
   "execution_count": 5,
   "metadata": {
    "tags": []
   },
   "outputs": [
    {
     "name": "stdout",
     "output_type": "stream",
     "text": [
      "Episode 500000/500000"
     ]
    }
   ],
   "source": [
    "# Execute\n",
    "Q, policy = mc_control_on_policy_epsilon_greedy(env, num_episodes=500000, discount=1, epsilon=0.8)"
   ]
  },
  {
   "cell_type": "markdown",
   "metadata": {},
   "source": [
    "Implement a function that prints on the screen the **optimal policy** found for each cell."
   ]
  },
  {
   "cell_type": "code",
   "execution_count": 6,
   "metadata": {
    "tags": []
   },
   "outputs": [],
   "source": [
    "def print_policy_MC(policy, width, height):\n",
    "    switch_action = {\n",
    "        0: \"U\",\n",
    "        1: \"R\",\n",
    "        2: \"D\",\n",
    "        3: \"L\"\n",
    "    }\n",
    "    for j in range(height):\n",
    "        print(\"------------------------------------------------------------------------\")\n",
    "        for i in range(width):\n",
    "            arr = np.array(policy((i,j)))\n",
    "            act = int(np.where(arr == np.amax(arr))[0])\n",
    "            a = switch_action[act]\n",
    "            print(\"  %s  |\" % a, end=\"\")\n",
    "        print(\"\")\n",
    "        \n",
    "    print(\"------------------------------------------------------------------------\")"
   ]
  },
  {
   "cell_type": "code",
   "execution_count": 7,
   "metadata": {
    "tags": []
   },
   "outputs": [
    {
     "name": "stdout",
     "output_type": "stream",
     "text": [
      "------------------------------------------------------------------------\n",
      "  R  |  R  |  R  |  R  |  R  |  R  |  R  |  R  |  R  |  R  |  R  |  D  |\n",
      "------------------------------------------------------------------------\n",
      "  U  |  U  |  U  |  U  |  U  |  U  |  R  |  R  |  R  |  R  |  R  |  D  |\n",
      "------------------------------------------------------------------------\n",
      "  U  |  U  |  U  |  U  |  U  |  U  |  U  |  U  |  U  |  R  |  R  |  D  |\n",
      "------------------------------------------------------------------------\n",
      "  U  |  U  |  U  |  U  |  U  |  U  |  U  |  U  |  U  |  U  |  U  |  U  |\n",
      "------------------------------------------------------------------------\n"
     ]
    },
    {
     "name": "stderr",
     "output_type": "stream",
     "text": [
      "C:\\Users\\victo\\AppData\\Local\\Temp\\ipykernel_24444\\2225160804.py:12: DeprecationWarning: Conversion of an array with ndim > 0 to a scalar is deprecated, and will error in future. Ensure you extract a single element from your array before performing this operation. (Deprecated NumPy 1.25.)\n",
      "  act = int(np.where(arr == np.amax(arr))[0])\n"
     ]
    }
   ],
   "source": [
    "print_policy_MC(policy, 12, 4)"
   ]
  },
  {
   "cell_type": "markdown",
   "metadata": {},
   "source": [
    "Run an episode with the optimal policy found and show the **agent's trajectory** and the **return** obtained."
   ]
  },
  {
   "cell_type": "code",
   "execution_count": 8,
   "metadata": {
    "tags": []
   },
   "outputs": [],
   "source": [
    "def execute_episode_MC(policy, env):\n",
    "    obs = env.reset()\n",
    "    t, total_reward, done = 0, 0, False\n",
    "    print(\"Obs inicial: {} \".format(obs))\n",
    "\n",
    "    switch_action = {\n",
    "            0: \"U\",\n",
    "            1: \"R\",\n",
    "            2: \"D\",\n",
    "            3: \"L\",\n",
    "        }\n",
    "\n",
    "    for t in range(1000): # We limit the number of time-steps in each episode to 1000\n",
    "        # We choose the optimal policy in each case (the maximum of the Epsilon-Greedy policy)\n",
    "        arr = np.array(policy(obs))\n",
    "        action = arr.argmax()\n",
    "    \n",
    "        # We execute the action and wait for the response from the environment\n",
    "        new_obs, reward, done, info = env.step(action)\n",
    "        print(\"{} - {} --> {} and reward: {}\".format(obs, switch_action[action], new_obs, reward))\n",
    "        obs = new_obs\n",
    "\n",
    "        if t==999:\n",
    "            print(\"Number of time-septs exceeds 1000. STOP episode.\")\n",
    "            \n",
    "        total_reward += reward\n",
    "        t += 1\n",
    "        if done:\n",
    "            break\n",
    "        \n",
    "    print(\"Episode finished after {} timesteps and reward was {} \".format(t, total_reward))\n",
    "    env.close()"
   ]
  },
  {
   "cell_type": "code",
   "execution_count": 9,
   "metadata": {
    "tags": []
   },
   "outputs": [
    {
     "name": "stdout",
     "output_type": "stream",
     "text": [
      "Obs inicial: (0, 3) \n",
      "(0, 3) - U --> (0, 2) and reward: -1\n",
      "(0, 2) - U --> (0, 1) and reward: -1\n",
      "(0, 1) - U --> (0, 0) and reward: -1\n",
      "(0, 0) - R --> (1, 0) and reward: -1\n",
      "(1, 0) - R --> (2, 0) and reward: -1\n",
      "(2, 0) - R --> (3, 0) and reward: -1\n",
      "(3, 0) - R --> (4, 0) and reward: -1\n",
      "(4, 0) - R --> (5, 0) and reward: -1\n",
      "(5, 0) - R --> (6, 0) and reward: -1\n",
      "(6, 0) - R --> (7, 0) and reward: -1\n",
      "(7, 0) - R --> (8, 0) and reward: -1\n",
      "(8, 0) - R --> (9, 0) and reward: -1\n",
      "(9, 0) - R --> (10, 0) and reward: -1\n",
      "(10, 0) - R --> (11, 0) and reward: -1\n",
      "(11, 0) - D --> (11, 1) and reward: -1\n",
      "(11, 1) - D --> (11, 2) and reward: -1\n",
      "(11, 2) - D --> (11, 3) and reward: 1000\n",
      "Episode finished after 17 timesteps and reward was 984 \n"
     ]
    }
   ],
   "source": [
    "execute_episode_MC(policy, env)"
   ]
  },
  {
   "cell_type": "code",
   "execution_count": null,
   "metadata": {},
   "outputs": [],
   "source": []
  }
 ],
 "metadata": {
  "colab": {
   "collapsed_sections": [],
   "name": "M2.883_PEC1_.ipynb",
   "provenance": []
  },
  "kernelspec": {
   "display_name": "base",
   "language": "python",
   "name": "python3"
  },
  "language_info": {
   "codemirror_mode": {
    "name": "ipython",
    "version": 3
   },
   "file_extension": ".py",
   "mimetype": "text/x-python",
   "name": "python",
   "nbconvert_exporter": "python",
   "pygments_lexer": "ipython3",
   "version": "3.11.11"
  }
 },
 "nbformat": 4,
 "nbformat_minor": 4
}

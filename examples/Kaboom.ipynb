{
 "cells": [
  {
   "cell_type": "markdown",
   "metadata": {},
   "source": [
    "# Managing environments using Conda"
   ]
  },
  {
   "cell_type": "markdown",
   "metadata": {},
   "source": [
    "### Creating a Conda environment to use Gymnasium\n",
    "\n",
    "First, create a new Conda environment (for example, called `gym_env`) with Python 3.10 or later:\n",
    "\n",
    "```bash\n",
    "conda create -n gym_env python=3.10\n",
    "```\n",
    "\n",
    "Activate the environment:\n",
    "\n",
    "```bash\n",
    "conda activate gym_env\n",
    "```\n",
    "\n",
    "Then, install the latest (or desired) version of **Gymnasium** and the extensions related to *Atari* games:\n",
    "\n",
    "```bash\n",
    "pip install \"gymnasium[atari, accept-rom-license]\"\n",
    "```\n",
    "\n",
    "Next, install the **ALE-Py** library, which provides the Atari Learning Environment used by Gymnasium:\n",
    "\n",
    "```bash\n",
    "pip install ale-py\n",
    "```"
   ]
  },
  {
   "cell_type": "code",
   "execution_count": 9,
   "metadata": {},
   "outputs": [],
   "source": [
    "import warnings\n",
    "warnings.filterwarnings('ignore')"
   ]
  },
  {
   "cell_type": "code",
   "execution_count": 10,
   "metadata": {
    "tags": []
   },
   "outputs": [
    {
     "name": "stdout",
     "output_type": "stream",
     "text": [
      "Using Gymnasium version 1.2.1\n"
     ]
    }
   ],
   "source": [
    "import gymnasium as gym\n",
    "\n",
    "# version\n",
    "print(\"Using Gymnasium version {}\".format(gym.__version__))"
   ]
  },
  {
   "cell_type": "code",
   "execution_count": 11,
   "metadata": {
    "tags": []
   },
   "outputs": [],
   "source": [
    "from ale_py import ALEInterface\n",
    "ale = ALEInterface()"
   ]
  },
  {
   "cell_type": "code",
   "execution_count": 12,
   "metadata": {
    "colab": {
     "base_uri": "https://localhost:8080/"
    },
    "id": "FA1Y5VCv20XZ",
    "outputId": "571f131d-20ca-4243-88c2-fa1f18d08d11",
    "tags": []
   },
   "outputs": [],
   "source": [
    "import ale_py\n",
    "\n",
    "gym.register_envs(ale_py)"
   ]
  },
  {
   "cell_type": "markdown",
   "metadata": {},
   "source": [
    "### Important!\n",
    "\n",
    "List of available environments:"
   ]
  },
  {
   "cell_type": "code",
   "execution_count": 13,
   "metadata": {
    "tags": []
   },
   "outputs": [
    {
     "data": {
      "text/plain": [
       "dict_keys(['CartPole-v0', 'CartPole-v1', 'MountainCar-v0', 'MountainCarContinuous-v0', 'Pendulum-v1', 'Acrobot-v1', 'phys2d/CartPole-v0', 'phys2d/CartPole-v1', 'phys2d/Pendulum-v0', 'LunarLander-v3', 'LunarLanderContinuous-v3', 'BipedalWalker-v3', 'BipedalWalkerHardcore-v3', 'CarRacing-v3', 'Blackjack-v1', 'FrozenLake-v1', 'FrozenLake8x8-v1', 'CliffWalking-v1', 'CliffWalkingSlippery-v1', 'Taxi-v3', 'tabular/Blackjack-v0', 'tabular/CliffWalking-v0', 'Reacher-v2', 'Reacher-v4', 'Reacher-v5', 'Pusher-v2', 'Pusher-v4', 'Pusher-v5', 'InvertedPendulum-v2', 'InvertedPendulum-v4', 'InvertedPendulum-v5', 'InvertedDoublePendulum-v2', 'InvertedDoublePendulum-v4', 'InvertedDoublePendulum-v5', 'HalfCheetah-v2', 'HalfCheetah-v3', 'HalfCheetah-v4', 'HalfCheetah-v5', 'Hopper-v2', 'Hopper-v3', 'Hopper-v4', 'Hopper-v5', 'Swimmer-v2', 'Swimmer-v3', 'Swimmer-v4', 'Swimmer-v5', 'Walker2d-v2', 'Walker2d-v3', 'Walker2d-v4', 'Walker2d-v5', 'Ant-v2', 'Ant-v3', 'Ant-v4', 'Ant-v5', 'Humanoid-v2', 'Humanoid-v3', 'Humanoid-v4', 'Humanoid-v5', 'HumanoidStandup-v2', 'HumanoidStandup-v4', 'HumanoidStandup-v5', 'GymV21Environment-v0', 'GymV26Environment-v0', 'Adventure-v0', 'Adventure-v4', 'AdventureNoFrameskip-v0', 'AdventureNoFrameskip-v4', 'AirRaid-v0', 'AirRaid-v4', 'AirRaidNoFrameskip-v0', 'AirRaidNoFrameskip-v4', 'Alien-v0', 'Alien-v4', 'AlienNoFrameskip-v0', 'AlienNoFrameskip-v4', 'Amidar-v0', 'Amidar-v4', 'AmidarNoFrameskip-v0', 'AmidarNoFrameskip-v4', 'Assault-v0', 'Assault-v4', 'AssaultNoFrameskip-v0', 'AssaultNoFrameskip-v4', 'Asterix-v0', 'Asterix-v4', 'AsterixNoFrameskip-v0', 'AsterixNoFrameskip-v4', 'Asteroids-v0', 'Asteroids-v4', 'AsteroidsNoFrameskip-v0', 'AsteroidsNoFrameskip-v4', 'Atlantis-v0', 'Atlantis-v4', 'AtlantisNoFrameskip-v0', 'AtlantisNoFrameskip-v4', 'BankHeist-v0', 'BankHeist-v4', 'BankHeistNoFrameskip-v0', 'BankHeistNoFrameskip-v4', 'BattleZone-v0', 'BattleZone-v4', 'BattleZoneNoFrameskip-v0', 'BattleZoneNoFrameskip-v4', 'BeamRider-v0', 'BeamRider-v4', 'BeamRiderNoFrameskip-v0', 'BeamRiderNoFrameskip-v4', 'Berzerk-v0', 'Berzerk-v4', 'BerzerkNoFrameskip-v0', 'BerzerkNoFrameskip-v4', 'Bowling-v0', 'Bowling-v4', 'BowlingNoFrameskip-v0', 'BowlingNoFrameskip-v4', 'Boxing-v0', 'Boxing-v4', 'BoxingNoFrameskip-v0', 'BoxingNoFrameskip-v4', 'Breakout-v0', 'Breakout-v4', 'BreakoutNoFrameskip-v0', 'BreakoutNoFrameskip-v4', 'Carnival-v0', 'Carnival-v4', 'CarnivalNoFrameskip-v0', 'CarnivalNoFrameskip-v4', 'Centipede-v0', 'Centipede-v4', 'CentipedeNoFrameskip-v0', 'CentipedeNoFrameskip-v4', 'ChopperCommand-v0', 'ChopperCommand-v4', 'ChopperCommandNoFrameskip-v0', 'ChopperCommandNoFrameskip-v4', 'CrazyClimber-v0', 'CrazyClimber-v4', 'CrazyClimberNoFrameskip-v0', 'CrazyClimberNoFrameskip-v4', 'Defender-v0', 'Defender-v4', 'DefenderNoFrameskip-v0', 'DefenderNoFrameskip-v4', 'DemonAttack-v0', 'DemonAttack-v4', 'DemonAttackNoFrameskip-v0', 'DemonAttackNoFrameskip-v4', 'DoubleDunk-v0', 'DoubleDunk-v4', 'DoubleDunkNoFrameskip-v0', 'DoubleDunkNoFrameskip-v4', 'ElevatorAction-v0', 'ElevatorAction-v4', 'ElevatorActionNoFrameskip-v0', 'ElevatorActionNoFrameskip-v4', 'Enduro-v0', 'Enduro-v4', 'EnduroNoFrameskip-v0', 'EnduroNoFrameskip-v4', 'FishingDerby-v0', 'FishingDerby-v4', 'FishingDerbyNoFrameskip-v0', 'FishingDerbyNoFrameskip-v4', 'Freeway-v0', 'Freeway-v4', 'FreewayNoFrameskip-v0', 'FreewayNoFrameskip-v4', 'Frostbite-v0', 'Frostbite-v4', 'FrostbiteNoFrameskip-v0', 'FrostbiteNoFrameskip-v4', 'Gopher-v0', 'Gopher-v4', 'GopherNoFrameskip-v0', 'GopherNoFrameskip-v4', 'Gravitar-v0', 'Gravitar-v4', 'GravitarNoFrameskip-v0', 'GravitarNoFrameskip-v4', 'Hero-v0', 'Hero-v4', 'HeroNoFrameskip-v0', 'HeroNoFrameskip-v4', 'IceHockey-v0', 'IceHockey-v4', 'IceHockeyNoFrameskip-v0', 'IceHockeyNoFrameskip-v4', 'Jamesbond-v0', 'Jamesbond-v4', 'JamesbondNoFrameskip-v0', 'JamesbondNoFrameskip-v4', 'JourneyEscape-v0', 'JourneyEscape-v4', 'JourneyEscapeNoFrameskip-v0', 'JourneyEscapeNoFrameskip-v4', 'Kangaroo-v0', 'Kangaroo-v4', 'KangarooNoFrameskip-v0', 'KangarooNoFrameskip-v4', 'Krull-v0', 'Krull-v4', 'KrullNoFrameskip-v0', 'KrullNoFrameskip-v4', 'KungFuMaster-v0', 'KungFuMaster-v4', 'KungFuMasterNoFrameskip-v0', 'KungFuMasterNoFrameskip-v4', 'MontezumaRevenge-v0', 'MontezumaRevenge-v4', 'MontezumaRevengeNoFrameskip-v0', 'MontezumaRevengeNoFrameskip-v4', 'MsPacman-v0', 'MsPacman-v4', 'MsPacmanNoFrameskip-v0', 'MsPacmanNoFrameskip-v4', 'NameThisGame-v0', 'NameThisGame-v4', 'NameThisGameNoFrameskip-v0', 'NameThisGameNoFrameskip-v4', 'Phoenix-v0', 'Phoenix-v4', 'PhoenixNoFrameskip-v0', 'PhoenixNoFrameskip-v4', 'Pitfall-v0', 'Pitfall-v4', 'PitfallNoFrameskip-v0', 'PitfallNoFrameskip-v4', 'Pong-v0', 'Pong-v4', 'PongNoFrameskip-v0', 'PongNoFrameskip-v4', 'Pooyan-v0', 'Pooyan-v4', 'PooyanNoFrameskip-v0', 'PooyanNoFrameskip-v4', 'PrivateEye-v0', 'PrivateEye-v4', 'PrivateEyeNoFrameskip-v0', 'PrivateEyeNoFrameskip-v4', 'Qbert-v0', 'Qbert-v4', 'QbertNoFrameskip-v0', 'QbertNoFrameskip-v4', 'Riverraid-v0', 'Riverraid-v4', 'RiverraidNoFrameskip-v0', 'RiverraidNoFrameskip-v4', 'RoadRunner-v0', 'RoadRunner-v4', 'RoadRunnerNoFrameskip-v0', 'RoadRunnerNoFrameskip-v4', 'Robotank-v0', 'Robotank-v4', 'RobotankNoFrameskip-v0', 'RobotankNoFrameskip-v4', 'Seaquest-v0', 'Seaquest-v4', 'SeaquestNoFrameskip-v0', 'SeaquestNoFrameskip-v4', 'Skiing-v0', 'Skiing-v4', 'SkiingNoFrameskip-v0', 'SkiingNoFrameskip-v4', 'Solaris-v0', 'Solaris-v4', 'SolarisNoFrameskip-v0', 'SolarisNoFrameskip-v4', 'SpaceInvaders-v0', 'SpaceInvaders-v4', 'SpaceInvadersNoFrameskip-v0', 'SpaceInvadersNoFrameskip-v4', 'StarGunner-v0', 'StarGunner-v4', 'StarGunnerNoFrameskip-v0', 'StarGunnerNoFrameskip-v4', 'Tennis-v0', 'Tennis-v4', 'TennisNoFrameskip-v0', 'TennisNoFrameskip-v4', 'TimePilot-v0', 'TimePilot-v4', 'TimePilotNoFrameskip-v0', 'TimePilotNoFrameskip-v4', 'Tutankham-v0', 'Tutankham-v4', 'TutankhamNoFrameskip-v0', 'TutankhamNoFrameskip-v4', 'UpNDown-v0', 'UpNDown-v4', 'UpNDownNoFrameskip-v0', 'UpNDownNoFrameskip-v4', 'Venture-v0', 'Venture-v4', 'VentureNoFrameskip-v0', 'VentureNoFrameskip-v4', 'VideoPinball-v0', 'VideoPinball-v4', 'VideoPinballNoFrameskip-v0', 'VideoPinballNoFrameskip-v4', 'WizardOfWor-v0', 'WizardOfWor-v4', 'WizardOfWorNoFrameskip-v0', 'WizardOfWorNoFrameskip-v4', 'YarsRevenge-v0', 'YarsRevenge-v4', 'YarsRevengeNoFrameskip-v0', 'YarsRevengeNoFrameskip-v4', 'Zaxxon-v0', 'Zaxxon-v4', 'ZaxxonNoFrameskip-v0', 'ZaxxonNoFrameskip-v4', 'ALE/Adventure-v5', 'ALE/AirRaid-v5', 'ALE/Alien-v5', 'ALE/Amidar-v5', 'ALE/Assault-v5', 'ALE/Asterix-v5', 'ALE/Asteroids-v5', 'ALE/Atlantis2-v5', 'ALE/Atlantis-v5', 'ALE/Backgammon-v5', 'ALE/BankHeist-v5', 'ALE/BasicMath-v5', 'ALE/BattleZone-v5', 'ALE/BeamRider-v5', 'ALE/Berzerk-v5', 'ALE/Blackjack-v5', 'ALE/Bowling-v5', 'ALE/Boxing-v5', 'ALE/Breakout-v5', 'ALE/Carnival-v5', 'ALE/Casino-v5', 'ALE/Centipede-v5', 'ALE/ChopperCommand-v5', 'ALE/CrazyClimber-v5', 'ALE/Crossbow-v5', 'ALE/Darkchambers-v5', 'ALE/Defender-v5', 'ALE/DemonAttack-v5', 'ALE/DonkeyKong-v5', 'ALE/DoubleDunk-v5', 'ALE/Earthworld-v5', 'ALE/ElevatorAction-v5', 'ALE/Enduro-v5', 'ALE/Entombed-v5', 'ALE/Et-v5', 'ALE/FishingDerby-v5', 'ALE/FlagCapture-v5', 'ALE/Freeway-v5', 'ALE/Frogger-v5', 'ALE/Frostbite-v5', 'ALE/Galaxian-v5', 'ALE/Gopher-v5', 'ALE/Gravitar-v5', 'ALE/Hangman-v5', 'ALE/HauntedHouse-v5', 'ALE/Hero-v5', 'ALE/HumanCannonball-v5', 'ALE/IceHockey-v5', 'ALE/Jamesbond-v5', 'ALE/JourneyEscape-v5', 'ALE/Kaboom-v5', 'ALE/Kangaroo-v5', 'ALE/KeystoneKapers-v5', 'ALE/KingKong-v5', 'ALE/Klax-v5', 'ALE/Koolaid-v5', 'ALE/Krull-v5', 'ALE/KungFuMaster-v5', 'ALE/LaserGates-v5', 'ALE/LostLuggage-v5', 'ALE/MarioBros-v5', 'ALE/MiniatureGolf-v5', 'ALE/MontezumaRevenge-v5', 'ALE/MrDo-v5', 'ALE/MsPacman-v5', 'ALE/NameThisGame-v5', 'ALE/Othello-v5', 'ALE/Pacman-v5', 'ALE/Phoenix-v5', 'ALE/Pitfall2-v5', 'ALE/Pitfall-v5', 'ALE/Pong-v5', 'ALE/Pooyan-v5', 'ALE/PrivateEye-v5', 'ALE/Qbert-v5', 'ALE/Riverraid-v5', 'ALE/RoadRunner-v5', 'ALE/Robotank-v5', 'ALE/Seaquest-v5', 'ALE/SirLancelot-v5', 'ALE/Skiing-v5', 'ALE/Solaris-v5', 'ALE/SpaceInvaders-v5', 'ALE/SpaceWar-v5', 'ALE/StarGunner-v5', 'ALE/Superman-v5', 'ALE/Surround-v5', 'ALE/Tennis-v5', 'ALE/Tetris-v5', 'ALE/TicTacToe3D-v5', 'ALE/TimePilot-v5', 'ALE/Trondead-v5', 'ALE/Turmoil-v5', 'ALE/Tutankham-v5', 'ALE/UpNDown-v5', 'ALE/Venture-v5', 'ALE/VideoCheckers-v5', 'ALE/VideoChess-v5', 'ALE/VideoCube-v5', 'ALE/VideoPinball-v5', 'ALE/WizardOfWor-v5', 'ALE/WordZapper-v5', 'ALE/YarsRevenge-v5', 'ALE/Zaxxon-v5'])"
      ]
     },
     "execution_count": 13,
     "metadata": {},
     "output_type": "execute_result"
    }
   ],
   "source": [
    "gym.envs.registration.registry.keys()"
   ]
  },
  {
   "cell_type": "code",
   "execution_count": 14,
   "metadata": {},
   "outputs": [],
   "source": [
    "ENV_NAME = \"ALE/Kaboom-v5\"\n",
    "\n",
    "test_env = gym.make(ENV_NAME)"
   ]
  },
  {
   "cell_type": "code",
   "execution_count": 15,
   "metadata": {
    "colab": {
     "base_uri": "https://localhost:8080/"
    },
    "id": "8QDaXip14JBv",
    "outputId": "39c796c7-ae7e-4194-9b22-6626ae4fcd39"
   },
   "outputs": [
    {
     "name": "stdout",
     "output_type": "stream",
     "text": [
      "['NOOP', 'FIRE', 'RIGHT', 'LEFT']\n"
     ]
    }
   ],
   "source": [
    "print(test_env.unwrapped.get_action_meanings())"
   ]
  },
  {
   "cell_type": "code",
   "execution_count": 16,
   "metadata": {
    "colab": {
     "base_uri": "https://localhost:8080/"
    },
    "id": "1uzLQLz04z2i",
    "outputId": "ad189248-3bfe-4703-cb2c-536adad2df0f"
   },
   "outputs": [
    {
     "name": "stdout",
     "output_type": "stream",
     "text": [
      "(210, 160, 3)\n"
     ]
    }
   ],
   "source": [
    "print(test_env.observation_space.shape)"
   ]
  },
  {
   "cell_type": "markdown",
   "metadata": {},
   "source": [
    "## Export and import Environments in Conda"
   ]
  },
  {
   "cell_type": "markdown",
   "metadata": {},
   "source": [
    "We can export the environment using:\n",
    "\n",
    "```bash\n",
    "conda env export | grep -v \"^prefix: \" > environment.yml\n",
    "```\n",
    "\n",
    "This command creates a file called `environment.yml` containing all the dependencies and their versions from the current Conda environment (excluding the local path prefix).\n",
    "\n",
    "Then, to recreate or import the environment on another system, use:\n",
    "\n",
    "```bash\n",
    "conda env create -f environment.yml\n",
    "```\n",
    "\n",
    "This will create a new Conda environment with the same packages and versions specified in the YAML file.\n",
    "\n",
    "If you want to **update an existing environment** instead of creating a new one, you can run:\n",
    "\n",
    "```bash\n",
    "conda env update -f environment.yml --prune\n",
    "```\n",
    "\n",
    "The `--prune` flag removes packages that are no longer required by the environment file.\n",
    "\n",
    "Finally, to **activate the environment**, use:\n",
    "\n",
    "```bash\n",
    "conda activate <environment_name>\n",
    "```\n",
    "\n",
    "(where `<environment_name>` is defined in the first line of the `environment.yml` file, under `name:`).\n"
   ]
  },
  {
   "cell_type": "code",
   "execution_count": null,
   "metadata": {},
   "outputs": [],
   "source": []
  }
 ],
 "metadata": {
  "accelerator": "GPU",
  "colab": {
   "collapsed_sections": [],
   "name": "Capitulo09.ipynb",
   "provenance": []
  },
  "kernelspec": {
   "display_name": "gym_env1",
   "language": "python",
   "name": "python3"
  },
  "language_info": {
   "codemirror_mode": {
    "name": "ipython",
    "version": 3
   },
   "file_extension": ".py",
   "mimetype": "text/x-python",
   "name": "python",
   "nbconvert_exporter": "python",
   "pygments_lexer": "ipython3",
   "version": "3.10.18"
  }
 },
 "nbformat": 4,
 "nbformat_minor": 4
}

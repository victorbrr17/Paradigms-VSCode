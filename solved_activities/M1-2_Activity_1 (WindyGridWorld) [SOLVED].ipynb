{
 "cells": [
  {
   "cell_type": "markdown",
   "metadata": {
    "id": "7xrRvDDNLUxK"
   },
   "source": [
    "# WindyGridWorld\n",
    "\n",
    "## Non-Evaluables Practical Exercices\n",
    "\n",
    "This is a non-evaluable practical exercise, but it is recommended that students complete it fully and individually, since it is an important part of the learning process.\n",
    "\n",
    "The solution will be available, although it is not recommended that students consult the solution until they have completed the exercise."
   ]
  },
  {
   "cell_type": "markdown",
   "metadata": {
    "id": "gee4aY31LUxL"
   },
   "source": [
    "## 1. Defining the base environment\n",
    "\n",
    "In this activity, we are going to implement an environment based on [Gymnasium](https://gymnasium.farama.org/) API. \n",
    "\n",
    "<u>Questions</u>:\n",
    "1. **Create an environment** with the following rules:\n",
    "- Grid size _16 x 12_\n",
    "- Starting position: [0,0]\n",
    "- Final (goal) posistion: [11,15]\n",
    "- Allowed actions: `0` up, `1` right, `2` down, and `3` left\n",
    "- Reward: -1 for each movement\n",
    "2. Implement an agent that follows a **random policy** and test its success.\n",
    "3. Implement an agent that follows the **optimal policy** and test its success.\n",
    "\n",
    "**Notes**:\n",
    "- Use the **class inheritance** from `gym.Env`."
   ]
  },
  {
   "cell_type": "markdown",
   "metadata": {},
   "source": [
    "The environment looks like the following example:"
   ]
  },
  {
   "cell_type": "markdown",
   "metadata": {},
   "source": [
    "<p style=\"text-align:center;\"><img src=\"data:image/png;base64,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\"></p>"
   ]
  },
  {
   "cell_type": "markdown",
   "metadata": {},
   "source": [
    "The class that implements the new environment must fulfil the **following interface**:"
   ]
  },
  {
   "cell_type": "code",
   "execution_count": 1,
   "metadata": {},
   "outputs": [],
   "source": [
    "import gymnasium as gym\n",
    "\n",
    "\n",
    "class WindyGridWorldEnv(gym.Env):\n",
    "    def __init__(self):\n",
    "        pass\n",
    "    \n",
    "    def step(self, action):\n",
    "        pass\n",
    "    \n",
    "    def reset(self):\n",
    "        pass"
   ]
  },
  {
   "cell_type": "markdown",
   "metadata": {},
   "source": [
    "## 2. Adding restrictions\n",
    "\n",
    "Suppose there is some wind in the center cells of the grid. Specifically,\n",
    "- Wind blowing with force +1 upwards in columns 6, 7, 10 and 11.\n",
    "- Wind blowing with force +2 upwards in columns 8 and 9.\n",
    "\n",
    "This means that when you land on one of these cells, your position moves 1 or 2 cells up.\n",
    "\n",
    "<u>Questions</u>:\n",
    "1. **Create an extension of the previous environment** to incorporate this specific behaviour.\n",
    "2. Implement an agent that follows the **optimal policy** and test its success.\n"
   ]
  },
  {
   "cell_type": "markdown",
   "metadata": {},
   "source": [
    "<p style=\"text-align:center;\"><img src=\"data:image/png;base64,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\"></p>"
   ]
  },
  {
   "cell_type": "markdown",
   "metadata": {
    "id": "2JCyYmwRLUxM"
   },
   "source": [
    "<div class=\"alert alert-block alert-danger\">\n",
    "<strong>Solution</strong>\n",
    "</div>"
   ]
  },
  {
   "cell_type": "markdown",
   "metadata": {},
   "source": [
    "### 1. Defining the base environment"
   ]
  },
  {
   "cell_type": "code",
   "execution_count": 2,
   "metadata": {
    "tags": []
   },
   "outputs": [],
   "source": [
    "import gymnasium as gym\n",
    "from gymnasium import spaces\n",
    "\n",
    "class WindyGridWorldEnv(gym.Env):\n",
    "    def __init__(self):\n",
    "        self.height = 12\n",
    "        self.width = 16\n",
    "        self.action_space = spaces.Discrete(4)\n",
    "        self.observation_space = spaces.Tuple((\n",
    "                spaces.Discrete(self.height),\n",
    "                spaces.Discrete(self.width)\n",
    "                ))\n",
    "        self.moves = {\n",
    "                0: (-1, 0),  # up\n",
    "                1: (0, 1),   # right\n",
    "                2: (1, 0),   # down\n",
    "                3: (0, -1),  # left\n",
    "                }\n",
    "\n",
    "        # begin in start state\n",
    "        self.reset()\n",
    "\n",
    "    def step(self, action):\n",
    "        x, y = self.moves[action]\n",
    "        self.S = self.S[0] + x, self.S[1] + y\n",
    "\n",
    "        self.S = max(0, self.S[0]), max(0, self.S[1])\n",
    "        self.S = (min(self.S[0], self.height - 1),\n",
    "                  min(self.S[1], self.width - 1))\n",
    "\n",
    "        if self.S == (self.height - 1, self.width - 1):\n",
    "            return self.S, -1, True, False, {}\n",
    "        else:\n",
    "            return self.S, -1, False, False, {}\n",
    "\n",
    "    def reset(self):\n",
    "        self.S = (0, 0)\n",
    "        return self.S"
   ]
  },
  {
   "cell_type": "code",
   "execution_count": 3,
   "metadata": {
    "tags": []
   },
   "outputs": [
    {
     "name": "stdout",
     "output_type": "stream",
     "text": [
      "Action space is Discrete(4) \n",
      "Observation space is Tuple(Discrete(12), Discrete(16)) \n"
     ]
    }
   ],
   "source": [
    "env = WindyGridWorldEnv()\n",
    "print(\"Action space is {} \".format(env.action_space))\n",
    "print(\"Observation space is {} \".format(env.observation_space))"
   ]
  },
  {
   "cell_type": "code",
   "execution_count": 4,
   "metadata": {
    "tags": []
   },
   "outputs": [
    {
     "name": "stdout",
     "output_type": "stream",
     "text": [
      "Obs initial: (0, 0) \n",
      "Action: 3 -> Obs: (0, 0) and reward: -1\n",
      "Action: 0 -> Obs: (0, 0) and reward: -1\n",
      "Action: 1 -> Obs: (0, 1) and reward: -1\n",
      "Action: 0 -> Obs: (0, 1) and reward: -1\n",
      "Action: 0 -> Obs: (0, 1) and reward: -1\n",
      "Action: 0 -> Obs: (0, 1) and reward: -1\n",
      "Action: 1 -> Obs: (0, 2) and reward: -1\n",
      "Action: 0 -> Obs: (0, 2) and reward: -1\n",
      "Action: 2 -> Obs: (1, 2) and reward: -1\n",
      "Action: 2 -> Obs: (2, 2) and reward: -1\n",
      "Action: 2 -> Obs: (3, 2) and reward: -1\n",
      "Action: 1 -> Obs: (3, 3) and reward: -1\n",
      "Action: 0 -> Obs: (2, 3) and reward: -1\n",
      "Action: 0 -> Obs: (1, 3) and reward: -1\n",
      "Action: 1 -> Obs: (1, 4) and reward: -1\n",
      "Action: 1 -> Obs: (1, 5) and reward: -1\n",
      "Action: 2 -> Obs: (2, 5) and reward: -1\n",
      "Action: 0 -> Obs: (1, 5) and reward: -1\n",
      "Action: 0 -> Obs: (0, 5) and reward: -1\n",
      "Action: 3 -> Obs: (0, 4) and reward: -1\n",
      "Action: 0 -> Obs: (0, 4) and reward: -1\n",
      "Action: 2 -> Obs: (1, 4) and reward: -1\n",
      "Action: 3 -> Obs: (1, 3) and reward: -1\n",
      "Action: 0 -> Obs: (0, 3) and reward: -1\n",
      "Action: 1 -> Obs: (0, 4) and reward: -1\n",
      "Action: 1 -> Obs: (0, 5) and reward: -1\n",
      "Action: 1 -> Obs: (0, 6) and reward: -1\n",
      "Action: 0 -> Obs: (0, 6) and reward: -1\n",
      "Action: 0 -> Obs: (0, 6) and reward: -1\n",
      "Action: 3 -> Obs: (0, 5) and reward: -1\n",
      "Action: 0 -> Obs: (0, 5) and reward: -1\n",
      "Action: 1 -> Obs: (0, 6) and reward: -1\n",
      "Action: 1 -> Obs: (0, 7) and reward: -1\n",
      "Action: 1 -> Obs: (0, 8) and reward: -1\n",
      "Action: 3 -> Obs: (0, 7) and reward: -1\n",
      "Action: 3 -> Obs: (0, 6) and reward: -1\n",
      "Action: 1 -> Obs: (0, 7) and reward: -1\n",
      "Action: 2 -> Obs: (1, 7) and reward: -1\n",
      "Action: 0 -> Obs: (0, 7) and reward: -1\n",
      "Action: 1 -> Obs: (0, 8) and reward: -1\n",
      "Action: 2 -> Obs: (1, 8) and reward: -1\n",
      "Action: 2 -> Obs: (2, 8) and reward: -1\n",
      "Action: 3 -> Obs: (2, 7) and reward: -1\n",
      "Action: 1 -> Obs: (2, 8) and reward: -1\n",
      "Action: 2 -> Obs: (3, 8) and reward: -1\n",
      "Action: 1 -> Obs: (3, 9) and reward: -1\n",
      "Action: 1 -> Obs: (3, 10) and reward: -1\n",
      "Action: 1 -> Obs: (3, 11) and reward: -1\n",
      "Action: 0 -> Obs: (2, 11) and reward: -1\n",
      "Action: 1 -> Obs: (2, 12) and reward: -1\n",
      "Action: 0 -> Obs: (1, 12) and reward: -1\n",
      "Action: 3 -> Obs: (1, 11) and reward: -1\n",
      "Action: 2 -> Obs: (2, 11) and reward: -1\n",
      "Action: 0 -> Obs: (1, 11) and reward: -1\n",
      "Action: 2 -> Obs: (2, 11) and reward: -1\n",
      "Action: 2 -> Obs: (3, 11) and reward: -1\n",
      "Action: 1 -> Obs: (3, 12) and reward: -1\n",
      "Action: 3 -> Obs: (3, 11) and reward: -1\n",
      "Action: 2 -> Obs: (4, 11) and reward: -1\n",
      "Action: 0 -> Obs: (3, 11) and reward: -1\n",
      "Action: 2 -> Obs: (4, 11) and reward: -1\n",
      "Action: 2 -> Obs: (5, 11) and reward: -1\n",
      "Action: 1 -> Obs: (5, 12) and reward: -1\n",
      "Action: 3 -> Obs: (5, 11) and reward: -1\n",
      "Action: 1 -> Obs: (5, 12) and reward: -1\n",
      "Action: 2 -> Obs: (6, 12) and reward: -1\n",
      "Action: 2 -> Obs: (7, 12) and reward: -1\n",
      "Action: 3 -> Obs: (7, 11) and reward: -1\n",
      "Action: 0 -> Obs: (6, 11) and reward: -1\n",
      "Action: 0 -> Obs: (5, 11) and reward: -1\n",
      "Action: 1 -> Obs: (5, 12) and reward: -1\n",
      "Action: 2 -> Obs: (6, 12) and reward: -1\n",
      "Action: 1 -> Obs: (6, 13) and reward: -1\n",
      "Action: 3 -> Obs: (6, 12) and reward: -1\n",
      "Action: 1 -> Obs: (6, 13) and reward: -1\n",
      "Action: 1 -> Obs: (6, 14) and reward: -1\n",
      "Action: 3 -> Obs: (6, 13) and reward: -1\n",
      "Action: 0 -> Obs: (5, 13) and reward: -1\n",
      "Action: 3 -> Obs: (5, 12) and reward: -1\n",
      "Action: 1 -> Obs: (5, 13) and reward: -1\n",
      "Action: 3 -> Obs: (5, 12) and reward: -1\n",
      "Action: 0 -> Obs: (4, 12) and reward: -1\n",
      "Action: 0 -> Obs: (3, 12) and reward: -1\n",
      "Action: 0 -> Obs: (2, 12) and reward: -1\n",
      "Action: 3 -> Obs: (2, 11) and reward: -1\n",
      "Action: 3 -> Obs: (2, 10) and reward: -1\n",
      "Action: 0 -> Obs: (1, 10) and reward: -1\n",
      "Action: 0 -> Obs: (0, 10) and reward: -1\n",
      "Action: 0 -> Obs: (0, 10) and reward: -1\n",
      "Action: 0 -> Obs: (0, 10) and reward: -1\n",
      "Action: 2 -> Obs: (1, 10) and reward: -1\n",
      "Action: 3 -> Obs: (1, 9) and reward: -1\n",
      "Action: 2 -> Obs: (2, 9) and reward: -1\n",
      "Action: 2 -> Obs: (3, 9) and reward: -1\n",
      "Action: 0 -> Obs: (2, 9) and reward: -1\n",
      "Action: 0 -> Obs: (1, 9) and reward: -1\n",
      "Action: 1 -> Obs: (1, 10) and reward: -1\n",
      "Action: 1 -> Obs: (1, 11) and reward: -1\n",
      "Action: 2 -> Obs: (2, 11) and reward: -1\n",
      "Action: 0 -> Obs: (1, 11) and reward: -1\n",
      "Episode finished after 100 timesteps and reward was -100 \n"
     ]
    }
   ],
   "source": [
    "# Initialize the environment\n",
    "obs = env.reset()\n",
    "t, total_reward, done = 0, 0, False\n",
    "max_iter = 100\n",
    "\n",
    "print(\"Obs initial: {} \".format(obs))\n",
    "\n",
    "while t < max_iter:\n",
    "    # Choose a random action (this is the agent implementation)\n",
    "    action = env.action_space.sample()\n",
    "    \n",
    "    # Execute the action and wait for the response from the environment\n",
    "    new_obs, reward, terminated, truncated, info = env.step(action)\n",
    "    done = terminated or truncated\n",
    "    \n",
    "    # Print\n",
    "    print(\"Action: {} -> Obs: {} and reward: {}\".format(action, new_obs, reward))\n",
    "    \n",
    "    # Update variables\n",
    "    obs = new_obs\n",
    "    total_reward += reward\n",
    "    t += 1\n",
    "    \n",
    "    if done:\n",
    "        break\n",
    "    \n",
    "print(\"Episode finished after {} timesteps and reward was {} \".format(t, total_reward))\n",
    "env.close()"
   ]
  },
  {
   "cell_type": "code",
   "execution_count": 5,
   "metadata": {
    "tags": []
   },
   "outputs": [
    {
     "name": "stdout",
     "output_type": "stream",
     "text": [
      "5 successes in 1000 episodes: 0.5 % of success\n"
     ]
    }
   ],
   "source": [
    "num_episodes = 1000\n",
    "num_success = 0\n",
    "max_iter = 100\n",
    "\n",
    "env = WindyGridWorldEnv()\n",
    "\n",
    "for episode in range(num_episodes):\n",
    "    # Environment reset\n",
    "    obs, info = env.reset()\n",
    "    t, done = 0, False\n",
    "    \n",
    "    while t < max_iter:\n",
    "        # Choose a random action (this is the agent implementation)\n",
    "        action = env.action_space.sample()\n",
    "\n",
    "        # Execute the action and wait for the response from the environment\n",
    "        new_obs, reward, terminated, truncated, info = env.step(action)\n",
    "        done = terminated or truncated\n",
    "\n",
    "        # Update variables\n",
    "        obs = new_obs\n",
    "        total_reward += reward\n",
    "        t += 1\n",
    "\n",
    "        if done:\n",
    "            num_success += 1\n",
    "            break\n",
    "            \n",
    "success_rate = num_success * 100 / num_episodes\n",
    "print(\"{} successes in {} episodes: {} % of success\".format(num_success, num_episodes, success_rate))"
   ]
  },
  {
   "cell_type": "markdown",
   "metadata": {},
   "source": [
    "### 2. Adding restrictions"
   ]
  },
  {
   "cell_type": "code",
   "execution_count": 6,
   "metadata": {
    "tags": []
   },
   "outputs": [],
   "source": [
    "import gymnasium as gym\n",
    "from gymnasium import spaces\n",
    "\n",
    "class WindyGridWorldEnv(gym.Env):\n",
    "    def __init__(self):\n",
    "        self.height = 12\n",
    "        self.width = 16\n",
    "        self.action_space = spaces.Discrete(4)\n",
    "        self.observation_space = spaces.Tuple((\n",
    "                spaces.Discrete(self.height),\n",
    "                spaces.Discrete(self.width)\n",
    "                ))\n",
    "        self.moves = {\n",
    "                0: (-1, 0),  # up\n",
    "                1: (0, 1),   # right\n",
    "                2: (1, 0),   # down\n",
    "                3: (0, -1),  # left\n",
    "                }\n",
    "\n",
    "        # begin in start state\n",
    "        self.reset()\n",
    "\n",
    "    def step(self, action):\n",
    "        x, y = self.moves[action]\n",
    "        self.S = self.S[0] + x, self.S[1] + y\n",
    "        \n",
    "        # wind actions\n",
    "        if self.S[1] in (6, 7, 10, 11):\n",
    "            self.S = self.S[0] - 1, self.S[1]\n",
    "        elif self.S[1] in (8, 9):\n",
    "            self.S = self.S[0] - 2, self.S[1]\n",
    "\n",
    "        self.S = max(0, self.S[0]), max(0, self.S[1])\n",
    "        self.S = (min(self.S[0], self.height - 1),\n",
    "                  min(self.S[1], self.width - 1))\n",
    "\n",
    "        if self.S == (self.height - 1, self.width - 1):\n",
    "            return self.S, -1, True, False, {}\n",
    "        else:\n",
    "            return self.S, -1, False, False, {}\n",
    "\n",
    "    def reset(self):\n",
    "        self.S = (0, 0)\n",
    "        return self.S"
   ]
  },
  {
   "cell_type": "code",
   "execution_count": 7,
   "metadata": {
    "tags": []
   },
   "outputs": [
    {
     "name": "stdout",
     "output_type": "stream",
     "text": [
      "Action space is Discrete(4) \n",
      "Observation space is Tuple(Discrete(12), Discrete(16)) \n"
     ]
    }
   ],
   "source": [
    "env = WindyGridWorldEnv()\n",
    "print(\"Action space is {} \".format(env.action_space))\n",
    "print(\"Observation space is {} \".format(env.observation_space))"
   ]
  },
  {
   "cell_type": "code",
   "execution_count": 8,
   "metadata": {},
   "outputs": [],
   "source": [
    "def run_episode(env: gym.Env, max_iter: int = 100):\n",
    "    # Initialize the environment\n",
    "    obs = env.reset()\n",
    "    t, total_reward, done = 0, 0, False\n",
    "    \n",
    "    while t < max_iter:\n",
    "        # Choose a random action (this is the agent implementation)\n",
    "        action = env.action_space.sample()\n",
    "        \n",
    "        # Execute the action and wait for the response from the environment\n",
    "        obs, reward, terminated, truncated, info = env.step(action)\n",
    "        done = terminated or truncated\n",
    "        \n",
    "        # Update variables\n",
    "        total_reward += reward\n",
    "        t += 1\n",
    "        \n",
    "        if done:\n",
    "            return total_reward, True\n",
    "\n",
    "    return total_reward, False"
   ]
  },
  {
   "cell_type": "code",
   "execution_count": 9,
   "metadata": {},
   "outputs": [
    {
     "name": "stdout",
     "output_type": "stream",
     "text": [
      "1 successes in 1000 episodes: 0.1 % of success\n"
     ]
    }
   ],
   "source": [
    "num_episodes = 1000\n",
    "num_success = 0\n",
    "max_iter = 100\n",
    "\n",
    "env = WindyGridWorldEnv()\n",
    "\n",
    "for episode in range(num_episodes):\n",
    "    _, success = run_episode(env, max_iter)\n",
    "    if success:\n",
    "        num_success += 1\n",
    "            \n",
    "success_rate = num_success * 100 / num_episodes\n",
    "print(\"{} successes in {} episodes: {} % of success\".format(num_success, num_episodes, success_rate))"
   ]
  },
  {
   "cell_type": "code",
   "execution_count": null,
   "metadata": {},
   "outputs": [],
   "source": []
  }
 ],
 "metadata": {
  "colab": {
   "provenance": []
  },
  "kernelspec": {
   "display_name": "gymnasium_v1-2-0",
   "language": "python",
   "name": "python3"
  },
  "language_info": {
   "codemirror_mode": {
    "name": "ipython",
    "version": 3
   },
   "file_extension": ".py",
   "mimetype": "text/x-python",
   "name": "python",
   "nbconvert_exporter": "python",
   "pygments_lexer": "ipython3",
   "version": "3.10.18"
  }
 },
 "nbformat": 4,
 "nbformat_minor": 4
}

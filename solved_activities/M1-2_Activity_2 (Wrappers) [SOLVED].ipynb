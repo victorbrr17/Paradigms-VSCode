{
 "cells": [
  {
   "cell_type": "markdown",
   "metadata": {
    "id": "7xrRvDDNLUxK"
   },
   "source": [
    "# Wrappers\n",
    "\n",
    "## Non-Evaluables Practical Exercices\n",
    "\n",
    "This is a non-evaluable practical exercise, but it is recommended that students complete it fully and individually, since it is an important part of the learning process.\n",
    "\n",
    "The solution will be available, although it is not recommended that students consult the solution until they have completed the exercise."
   ]
  },
  {
   "cell_type": "markdown",
   "metadata": {
    "id": "gee4aY31LUxL"
   },
   "source": [
    "## Defining the base environment\n",
    "\n",
    "In this activity, we are going to extend or modify the functionality of [Frozen Lake](https://gymnasium.farama.org/environments/toy_text/frozen_lake/) environment by using the [wrappers](https://gymnasium.farama.org/api/wrappers/) functionality.\n",
    "\n",
    "The following code runs one episode and prints the observation at each time $t$. As can be seen, the observation is an **integer** in range $[0,n^2-1]$ where $n$ is the grid size.\n",
    "\n",
    "Suppose we want to implement an agent that needs to process the observations as a **vector of binary positions**, where a single position of the vector must take the value of 1 and the rest must remain at 0. To achieve this behavior, we define a **wrapper** that takes the observation space environment `Discrete(n=16)` and generates a new environment with an encoding [one-hot](https://es.wikipedia.org/wiki/One-hot) of the states, to be used, for example, in neural networks.\n",
    "\n",
    "<u>Questions</u>:\n",
    "1. **Modify the environment** to fulfil the above description."
   ]
  },
  {
   "cell_type": "code",
   "execution_count": 5,
   "metadata": {
    "tags": []
   },
   "outputs": [
    {
     "name": "stdout",
     "output_type": "stream",
     "text": [
      "0\n",
      "0\n",
      "4\n",
      "8\n",
      "12\n",
      "Episode finished!\n"
     ]
    }
   ],
   "source": [
    "import gymnasium as gym\n",
    "\n",
    "env = gym.make(\"FrozenLake-v1\")\n",
    "obs, done = env.reset(), False\n",
    "\n",
    "while not done:\n",
    "    act = env.action_space.sample()\n",
    "    obs, rew, terminated, truncated, _ = env.step(act)\n",
    "    done = terminated or truncated\n",
    "    \n",
    "    print(obs)\n",
    "\n",
    "print(\"Episode finished!\")"
   ]
  },
  {
   "cell_type": "code",
   "execution_count": 6,
   "metadata": {
    "tags": []
   },
   "outputs": [
    {
     "name": "stdout",
     "output_type": "stream",
     "text": [
      "Discrete(16)\n",
      "7\n"
     ]
    }
   ],
   "source": [
    "print(env.observation_space)\n",
    "print(env.observation_space.sample())"
   ]
  },
  {
   "cell_type": "markdown",
   "metadata": {
    "id": "2JCyYmwRLUxM"
   },
   "source": [
    "<div class=\"alert alert-block alert-danger\">\n",
    "<strong>Solution</strong>\n",
    "</div>"
   ]
  },
  {
   "cell_type": "markdown",
   "metadata": {},
   "source": [
    "- In this example we have defined the class `DiscreteToBoxWrapper` from the class `ObservationWrapper` where we override the configuration of the observations space, assigning the type `Box(low=0, high=1, shape=( 16,))`. \n",
    "- We initialize the environment from the created _wrapper_. \n",
    "- The following part of the code does not present any modification, since the _wrapper_ implements the changes in a **transparent** way and it is not necessary to modify the code of the main block."
   ]
  },
  {
   "cell_type": "code",
   "execution_count": 7,
   "metadata": {
    "tags": []
   },
   "outputs": [
    {
     "name": "stdout",
     "output_type": "stream",
     "text": [
      " 0 -> [1. 0. 0. 0. 0. 0. 0. 0. 0. 0. 0. 0. 0. 0. 0. 0.]\n",
      " 0 -> [1. 0. 0. 0. 0. 0. 0. 0. 0. 0. 0. 0. 0. 0. 0. 0.]\n",
      " 4 -> [0. 0. 0. 0. 1. 0. 0. 0. 0. 0. 0. 0. 0. 0. 0. 0.]\n",
      " 0 -> [1. 0. 0. 0. 0. 0. 0. 0. 0. 0. 0. 0. 0. 0. 0. 0.]\n",
      " 0 -> [1. 0. 0. 0. 0. 0. 0. 0. 0. 0. 0. 0. 0. 0. 0. 0.]\n",
      " 1 -> [0. 1. 0. 0. 0. 0. 0. 0. 0. 0. 0. 0. 0. 0. 0. 0.]\n",
      " 1 -> [0. 1. 0. 0. 0. 0. 0. 0. 0. 0. 0. 0. 0. 0. 0. 0.]\n",
      " 2 -> [0. 0. 1. 0. 0. 0. 0. 0. 0. 0. 0. 0. 0. 0. 0. 0.]\n",
      " 2 -> [0. 0. 1. 0. 0. 0. 0. 0. 0. 0. 0. 0. 0. 0. 0. 0.]\n",
      " 2 -> [0. 0. 1. 0. 0. 0. 0. 0. 0. 0. 0. 0. 0. 0. 0. 0.]\n",
      " 1 -> [0. 1. 0. 0. 0. 0. 0. 0. 0. 0. 0. 0. 0. 0. 0. 0.]\n",
      " 0 -> [1. 0. 0. 0. 0. 0. 0. 0. 0. 0. 0. 0. 0. 0. 0. 0.]\n",
      " 0 -> [1. 0. 0. 0. 0. 0. 0. 0. 0. 0. 0. 0. 0. 0. 0. 0.]\n",
      " 0 -> [1. 0. 0. 0. 0. 0. 0. 0. 0. 0. 0. 0. 0. 0. 0. 0.]\n",
      " 0 -> [1. 0. 0. 0. 0. 0. 0. 0. 0. 0. 0. 0. 0. 0. 0. 0.]\n",
      " 1 -> [0. 1. 0. 0. 0. 0. 0. 0. 0. 0. 0. 0. 0. 0. 0. 0.]\n",
      " 0 -> [1. 0. 0. 0. 0. 0. 0. 0. 0. 0. 0. 0. 0. 0. 0. 0.]\n",
      " 4 -> [0. 0. 0. 0. 1. 0. 0. 0. 0. 0. 0. 0. 0. 0. 0. 0.]\n",
      " 0 -> [1. 0. 0. 0. 0. 0. 0. 0. 0. 0. 0. 0. 0. 0. 0. 0.]\n",
      " 1 -> [0. 1. 0. 0. 0. 0. 0. 0. 0. 0. 0. 0. 0. 0. 0. 0.]\n",
      " 0 -> [1. 0. 0. 0. 0. 0. 0. 0. 0. 0. 0. 0. 0. 0. 0. 0.]\n",
      " 1 -> [0. 1. 0. 0. 0. 0. 0. 0. 0. 0. 0. 0. 0. 0. 0. 0.]\n",
      " 0 -> [1. 0. 0. 0. 0. 0. 0. 0. 0. 0. 0. 0. 0. 0. 0. 0.]\n",
      " 0 -> [1. 0. 0. 0. 0. 0. 0. 0. 0. 0. 0. 0. 0. 0. 0. 0.]\n",
      " 1 -> [0. 1. 0. 0. 0. 0. 0. 0. 0. 0. 0. 0. 0. 0. 0. 0.]\n",
      " 5 -> [0. 0. 0. 0. 0. 1. 0. 0. 0. 0. 0. 0. 0. 0. 0. 0.]\n",
      "Episode finished!\n"
     ]
    }
   ],
   "source": [
    "import numpy as np\n",
    "\n",
    "class DiscreteToBoxWrapper(gym.ObservationWrapper):\n",
    "    def __init__(self, env):\n",
    "        super().__init__(env)\n",
    "        self.n = self.observation_space.n\n",
    "        self.observation_space = gym.spaces.Box(0, 1, (self.n,), dtype=np.uint8)\n",
    "\n",
    "    def observation(self, obs):\n",
    "        new_obs = np.zeros(self.n)\n",
    "        new_obs[obs] = 1\n",
    "        print(\"{:2d} -> {}\".format(obs, new_obs))\n",
    "        return new_obs\n",
    "\n",
    "env = DiscreteToBoxWrapper(gym.make(\"FrozenLake-v1\"))\n",
    "\n",
    "obs, done = env.reset(), False\n",
    "while not done:\n",
    "    act = env.action_space.sample()\n",
    "    obs, rew, terminated, truncated, _ = env.step(act)\n",
    "    done = terminated or truncated\n",
    "\n",
    "print(\"Episode finished!\")"
   ]
  },
  {
   "cell_type": "code",
   "execution_count": 8,
   "metadata": {
    "tags": []
   },
   "outputs": [
    {
     "name": "stdout",
     "output_type": "stream",
     "text": [
      "Box(0, 1, (16,), uint8)\n",
      "[0 1 0 1 0 0 1 0 1 1 0 0 0 0 0 1]\n"
     ]
    }
   ],
   "source": [
    "print(env.observation_space)\n",
    "print(env.observation_space.sample())"
   ]
  }
 ],
 "metadata": {
  "colab": {
   "provenance": []
  },
  "kernelspec": {
   "display_name": "gymnasium_v1-2-0",
   "language": "python",
   "name": "python3"
  },
  "language_info": {
   "codemirror_mode": {
    "name": "ipython",
    "version": 3
   },
   "file_extension": ".py",
   "mimetype": "text/x-python",
   "name": "python",
   "nbconvert_exporter": "python",
   "pygments_lexer": "ipython3",
   "version": "3.10.18"
  }
 },
 "nbformat": 4,
 "nbformat_minor": 4
}

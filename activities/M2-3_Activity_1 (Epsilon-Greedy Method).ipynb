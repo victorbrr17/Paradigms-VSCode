{
 "cells": [
  {
   "cell_type": "markdown",
   "id": "0a6f8715-980b-4cd0-8c8f-791b981553dc",
   "metadata": {},
   "source": [
    "# **Deep Reinforcement Learning**\n",
    "\n",
    "# M3-1: $\\epsilon$-Greedy method \n",
    "\n",
    "## Non-Evaluables Practical Exercices\n",
    "\n",
    "This is a non-evaluable practical exercise, but it is recommended that students complete it fully and individually, since it is an important part of the learning process.\n",
    "\n",
    "The solution will be available, although it is not recommended that students consult the solution until they have completed the exercise. "
   ]
  },
  {
   "cell_type": "markdown",
   "id": "71310747-ce6a-4f24-a282-d38d2cc2273e",
   "metadata": {},
   "source": [
    "## 1. Implement the $\\epsilon$-Greedy method\n",
    "\n",
    "Implement a function to perform the $\\epsilon$-greedy algorithm in Python, just using the standard libraries (do not use advanced libraries related to machine learning or data manipulation).\n",
    "\n",
    "This function must have the following parameters:\n",
    "- $\\epsilon$ start value\n",
    "- $\\epsilon$ decay\n",
    "- $\\epsilon$ min value\n",
    "\n",
    "Thus, the function will like:"
   ]
  },
  {
   "cell_type": "code",
   "execution_count": 1,
   "id": "416e0dd7-bf55-4590-92ee-dbbf7bd930bb",
   "metadata": {},
   "outputs": [],
   "source": [
    "def epsilon_decay(epsilon, decay, minimum):\n",
    "    # TODO\n",
    "    \n",
    "    return None"
   ]
  },
  {
   "cell_type": "markdown",
   "id": "8de775ba-b900-482b-b622-927e5fd5713b",
   "metadata": {},
   "source": [
    "Plot the values of $\\epsilon$ in the range 0 - 120000 using the following parameters:\n",
    "- EPS_START = 1.0\n",
    "- EPS_DECAY = 0.999985\n",
    "- EPS_MIN = 0.2"
   ]
  },
  {
   "cell_type": "code",
   "execution_count": 2,
   "id": "762d7628-5a06-43fa-a8ab-d286344f627a",
   "metadata": {
    "tags": []
   },
   "outputs": [],
   "source": [
    "EPS_START = 1.0\n",
    "EPS_DECAY = 0.999985\n",
    "EPS_MIN = 0.2"
   ]
  },
  {
   "cell_type": "markdown",
   "id": "781c1117-73ab-4d9f-b814-276651174604",
   "metadata": {},
   "source": [
    "<div class=\"alert alert-block alert-danger\">\n",
    "<strong>Solution</strong>\n",
    "</div>"
   ]
  },
  {
   "cell_type": "code",
   "execution_count": null,
   "id": "12ca1458-6150-455c-aafb-1d24bf9fa10c",
   "metadata": {},
   "outputs": [],
   "source": []
  }
 ],
 "metadata": {
  "kernelspec": {
   "display_name": "Python 3 (ipykernel)",
   "language": "python",
   "name": "python3"
  },
  "language_info": {
   "codemirror_mode": {
    "name": "ipython",
    "version": 3
   },
   "file_extension": ".py",
   "mimetype": "text/x-python",
   "name": "python",
   "nbconvert_exporter": "python",
   "pygments_lexer": "ipython3",
   "version": "3.8.18"
  }
 },
 "nbformat": 4,
 "nbformat_minor": 5
}
